{
 "cells": [
  {
   "cell_type": "markdown",
   "metadata": {},
   "source": [
    "# The FSRS algorithm\n",
    "\n",
    "this notebook contains an exploratory implementation of the FSRS algorithm. This algorithm was developed initally by Jarret Ye et.al and a description of it can be found [here](https://github.com/open-spaced-repetition/fsrs4anki/wiki/The-Algorithm). The goal here is to familiarize myself with it enough such that I can implement a rust based version in it for [minra](https://github.com/lakrestofer/minra).\n"
   ]
  },
  {
   "cell_type": "markdown",
   "metadata": {},
   "source": [
    "\n",
    "Here I'm essentially doing nothing but reading the related wiki note linked above.\n",
    "\n",
    "The algorithm models each review item as a 3 valued tuple containing its retrievability ($R$), stability ($S$) and difficulty ($D$). The retrievability is the probability that the item will be recalled at the current timepoint $t$. The stability is the number of days required to drop the retrievability from 100% to the wanted retrievability probability (usually around 90%). The difficulty is some number between 1 and 10 that represents how difficult an item is to remember (makes sense). "
   ]
  },
  {
   "cell_type": "markdown",
   "metadata": {},
   "source": [
    "### Initial item parameters\n",
    "\n",
    "the model is built up of various formulas that use some arbitrary parameters (contained in the vector $W$ with parameters $w_i$) whose values has been set by fitting the model to real world data. This also means that we will be able to further tune them when we get access to more data.\n",
    "\n",
    "An initial review item has its $(R,S,D)$ values set through the first review event ($G$ for \"grade\").\n",
    "\n",
    "initial stability:\n",
    "$$\n",
    "S_0(G) = w_{G-1}\n",
    "$$\n",
    "\n",
    "initial difficulty:\n",
    "$$\n",
    "D_0(G) = w_4 - (G - 3) \\cdot w_5\n",
    "$$\n",
    "\n",
    "and retrievability (which is not a constant but function over time t):\n",
    "$$\n",
    "R(t,S) = (1 + \\frac{t}{9 \\cdot S})^{-1}\n",
    "$$\n"
   ]
  },
  {
   "cell_type": "code",
   "execution_count": 17,
   "metadata": {},
   "outputs": [],
   "source": [
    "from typing import Callable\n",
    "from dataclasses import dataclass\n",
    "import jdc # allows for glorious multicell implementations of a python class!\n",
    "from math import exp"
   ]
  },
  {
   "cell_type": "code",
   "execution_count": 5,
   "metadata": {},
   "outputs": [],
   "source": [
    "# the parameters set through fitting the model to real world anki data.\n",
    "W = [0.4, 0.6, 2.4, 5.8, 4.93, 0.94, 0.86, 0.01, 1.49, 0.14, 0.94, 2.18, 0.05, 0.34, 1.26, 0.29, 2.61]\n",
    "\n",
    "# checks if value is valid\n",
    "def val_g(g: int, f: Callable[[int], int]) -> int:\n",
    "    if (g < 0 or 4 < g):\n",
    "        raise ValueError(\"Nonvalid grade. Grade must be between 1 and 4 (inclusive range)\")\n",
    "    return f(g)\n",
    "\n",
    "# initial stability\n",
    "def s0(g: int) -> int:\n",
    "    return val_g(g, lambda g: W[g - 1])\n",
    "\n",
    "# initial difficulty\n",
    "def d0(g: int) -> int:\n",
    "    return val_g(g, lambda g: W[4] - (g - 3) * W[5])"
   ]
  },
  {
   "cell_type": "markdown",
   "metadata": {},
   "source": [
    "we define an initial review item class using the above formulas"
   ]
  },
  {
   "cell_type": "code",
   "execution_count": 8,
   "metadata": {},
   "outputs": [],
   "source": [
    "@dataclass\n",
    "class ReviewItem:\n",
    "    s: int\n",
    "    d: int\n",
    "    \n",
    "    def init_item(g: int) -> \"ReviewItem\":\n",
    "        s = s0(g)\n",
    "        d = d0(g)\n",
    "        return ReviewItem(s,d)\n",
    "    \n"
   ]
  },
  {
   "cell_type": "markdown",
   "metadata": {},
   "source": [
    "We then want a way to compute how the retrievability changes for the item over time. We recall the formula.\n",
    "$$\n",
    "R(t,S) = (1 + \\frac{t}{9 \\cdot S})^{-1}\n",
    "$$\n",
    "which we can then add to our review item class"
   ]
  },
  {
   "cell_type": "code",
   "execution_count": 13,
   "metadata": {},
   "outputs": [],
   "source": [
    "%%add_to ReviewItem\n",
    "def r(self, t: int) -> float:\n",
    "    \"\"\"\n",
    "    returns the probability that this item will be recalled after t days\n",
    "    :param int t: Number of days since last review\n",
    "    \"\"\"\n",
    "    return 1 / (1 + (t / (9 * self.s)))\n"
   ]
  },
  {
   "cell_type": "markdown",
   "metadata": {},
   "source": [
    "This then gives us a way to decide when we should review the item. When the retrievability reaches the target probability we review, produce a grade g that tells us how well we recalled the item and then update our (or create a new) ReviewItem.\n",
    "\n",
    "For this we need to compute the new stability and difficulty given the review grade g.\n",
    "\n",
    "The new difficulty is computed as below:\n",
    "$$\n",
    "D'(D,G) = w_7 \\cdot D_0(3) + (1 - w_7) * (D - w_6 \\cdot (G - 3))\n",
    "$$"
   ]
  },
  {
   "cell_type": "code",
   "execution_count": 14,
   "metadata": {},
   "outputs": [],
   "source": [
    "%%add_to ReviewItem\n",
    "def new_d(self, g: int) -> int:\n",
    "    return W[7] * d0(3) + (1 - W[7]) * (self.d - W[6] * (g - 3))"
   ]
  },
  {
   "cell_type": "markdown",
   "metadata": {},
   "source": [
    "given that the review was successful the new stability is computed as:\n",
    "\n",
    "$$\n",
    "    S'_r(D,S,R,G) = S \\cdot (e^{w_8} \\cdot (11 - D) \\cdot S^{-W_9} \\cdot (e^{w_{10}\\cdot(1 - R)}) \\cdot w_{15}(\\text{if}\\, G = 2) \\cdot w_{16}(\\text{if}\\, G = 4) + 1)\n",
    "$$"
   ]
  },
  {
   "cell_type": "code",
   "execution_count": 21,
   "metadata": {},
   "outputs": [],
   "source": [
    "%%add_to ReviewItem\n",
    "def new_s_suc(self, g: int, t: int) -> int:\n",
    "    # current recall probability\n",
    "    cr = self.r(t)\n",
    "    # grade factor. just some number based on the grade.\n",
    "    gf = 1 if g == 3 else W[15] if g == 2 else W[16]\n",
    "    # the factor with which we scale the original stability\n",
    "    d = exp(W[8]) * (11 - self.d) * self.s**(-W[9]) * (exp(W[10] * (1 - cr)) - 1) * gf + 1\n",
    "    return self.s * d"
   ]
  },
  {
   "cell_type": "markdown",
   "metadata": {},
   "source": [
    "in the case that the review failed (we could not recall the item) with a resulting g of 1 then the stability is compute as:\n",
    "$$\n",
    "S'_f(D,S,R) = w_{11} \\cdot D^{-w_{12}} \\cdot ((S + 1)^{w_{13}} - 1) \\cdot e^{w_{14} \\cdot (1 - R)}\n",
    "$$"
   ]
  },
  {
   "cell_type": "code",
   "execution_count": 22,
   "metadata": {},
   "outputs": [],
   "source": [
    "%%add_to ReviewItem\n",
    "def new_s_fail(self, t: int) -> int:\n",
    "    cr = self.r(t)\n",
    "    return W[11] * self.d**(-W[12]) * ((self.s + 1)**(W[13]) - 1) * exp(W[14] * (1 - cr))"
   ]
  },
  {
   "cell_type": "markdown",
   "metadata": {},
   "source": [
    "which we can provide a nicer interface through"
   ]
  },
  {
   "cell_type": "code",
   "execution_count": 23,
   "metadata": {},
   "outputs": [],
   "source": [
    "%%add_to ReviewItem\n",
    "def new_s(self, g: int, t:int) -> int:\n",
    "    return val_g(g, lambda g: new_s_fail(g) if g == 1 else new_s_suc(g))"
   ]
  },
  {
   "cell_type": "code",
   "execution_count": 25,
   "metadata": {},
   "outputs": [],
   "source": [
    "%%add_to ReviewItem\n",
    "def review(self, g: int, t: int) -> \"ReviewItem\":\n",
    "    \"\"\"\n",
    "    computes the new stability and difficulty of an item given the result g of a review event\n",
    "    \"\"\"\n",
    "    nd = self.new_d(g)\n",
    "    ns = self.new_s(g, t)\n",
    "    return ReviewItem(nd, ns)"
   ]
  },
  {
   "cell_type": "markdown",
   "metadata": {},
   "source": [
    "this is enough to fully models the creation of review items and the reviews themselves!"
   ]
  },
  {
   "cell_type": "code",
   "execution_count": null,
   "metadata": {},
   "outputs": [],
   "source": [
    "item = ReviewItem.init_item(3) # an ordinary item"
   ]
  }
 ],
 "metadata": {
  "kernelspec": {
   "display_name": "minra",
   "language": "python",
   "name": "python3"
  },
  "language_info": {
   "codemirror_mode": {
    "name": "ipython",
    "version": 3
   },
   "file_extension": ".py",
   "mimetype": "text/x-python",
   "name": "python",
   "nbconvert_exporter": "python",
   "pygments_lexer": "ipython3",
   "version": "3.11.5"
  },
  "orig_nbformat": 4
 },
 "nbformat": 4,
 "nbformat_minor": 2
}
